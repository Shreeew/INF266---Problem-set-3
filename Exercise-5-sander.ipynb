{
 "cells": [
  {
   "cell_type": "markdown",
   "metadata": {},
   "source": [
    "# INF266 Problem set 3: Exercise 5"
   ]
  },
  {
   "cell_type": "markdown",
   "metadata": {},
   "source": [
    "## Imports"
   ]
  },
  {
   "cell_type": "code",
   "execution_count": 1,
   "metadata": {},
   "outputs": [],
   "source": [
    "import pickle\n",
    "import numpy as np\n",
    "import matplotlib.pyplot as plt\n",
    "from collections import defaultdict"
   ]
  },
  {
   "cell_type": "markdown",
   "metadata": {},
   "source": [
    "## Task 1-3"
   ]
  },
  {
   "cell_type": "code",
   "execution_count": 2,
   "metadata": {},
   "outputs": [],
   "source": [
    "# Load trajectories from pickle file\n",
    "with open(\"trajectories.pickle\", \"rb\") as f:\n",
    "    trajectories = pickle.load(f)"
   ]
  },
  {
   "cell_type": "code",
   "execution_count": 3,
   "metadata": {},
   "outputs": [
    {
     "name": "stdout",
     "output_type": "stream",
     "text": [
      "Number of trajectories: 1000\n",
      "Sample trajectory:\n"
     ]
    }
   ],
   "source": [
    "# Explore the structure of the data\n",
    "print(f\"Number of trajectories: {len(trajectories)}\")\n",
    "print(\"Sample trajectory:\")\n",
    "#print(trajectories[0])  # Print the first trajectory to understand the format"
   ]
  },
  {
   "cell_type": "markdown",
   "metadata": {},
   "source": [
    "The trajectory data consists of state transitions in the format:\n",
    "* (st,at,rt,st+1)\n",
    "\n",
    "Where:\n",
    "* st is the current state (grid position in the environment).\n",
    "* at is the action taken at st\n",
    "* rt is the reward recieved after taking action at\n",
    "* st+1 is the next state after executing action at\n",
    "\n",
    "Each trajectory represents a sequence of these transitions until termination."
   ]
  },
  {
   "cell_type": "markdown",
   "metadata": {},
   "source": [
    "### Monte Carlo Evaluation - State Value Function (First-Visit MC)"
   ]
  },
  {
   "cell_type": "code",
   "execution_count": 4,
   "metadata": {},
   "outputs": [],
   "source": [
    "# Monte Carlo Evaluation - State Value Function\n",
    "state_returns = defaultdict(list)\n",
    "state_value_function = {}\n",
    "policy = defaultdict(lambda: 0)  # Initial policy (default action 0)\n",
    "\n",
    "gamma = 0.9  # Discount factor"
   ]
  },
  {
   "cell_type": "code",
   "execution_count": 5,
   "metadata": {},
   "outputs": [],
   "source": [
    "for trajectory in trajectories:\n",
    "    visited_states = set()\n",
    "    G = 0\n",
    "    for t in reversed(range(len(trajectory))):\n",
    "        state, action, reward, next_state = trajectory[t]\n",
    "        G = gamma * G + reward\n",
    "        if state not in visited_states:\n",
    "            state_returns[state].append(G)\n",
    "            visited_states.add(state)"
   ]
  },
  {
   "cell_type": "code",
   "execution_count": 6,
   "metadata": {},
   "outputs": [],
   "source": [
    "# Compute mean returns for each state\n",
    "for state, returns in state_returns.items():\n",
    "    state_value_function[state] = np.mean(returns)"
   ]
  },
  {
   "cell_type": "code",
   "execution_count": 7,
   "metadata": {},
   "outputs": [
    {
     "name": "stdout",
     "output_type": "stream",
     "text": [
      "Computed State-Value Function (sample):\n",
      "State (21, 98): -0.152\n",
      "State (21, 97): -0.826\n",
      "State (22, 97): -0.883\n",
      "State (21, 96): -1.426\n",
      "State (21, 95): -1.891\n",
      "State (22, 94): -2.225\n",
      "State (23, 93): -2.784\n",
      "State (22, 93): -2.738\n",
      "State (21, 92): -2.839\n",
      "State (20, 92): -2.656\n"
     ]
    }
   ],
   "source": [
    "# Print some computed state values\n",
    "print(\"Computed State-Value Function (sample):\")\n",
    "for i, (state, value) in enumerate(state_value_function.items()):\n",
    "    if i >= 10:\n",
    "        break\n",
    "    print(f\"State {state}: {value:.3f}\")"
   ]
  },
  {
   "cell_type": "markdown",
   "metadata": {},
   "source": [
    "### Compute action-value function q_pi(a, s)"
   ]
  },
  {
   "cell_type": "code",
   "execution_count": 8,
   "metadata": {},
   "outputs": [],
   "source": [
    "# Compute action-value function q_pi(a, s)\n",
    "action_returns = defaultdict(list)\n",
    "action_value_function = {}\n",
    "\n",
    "for trajectory in trajectories:\n",
    "    visited_state_action = set()\n",
    "    G = 0\n",
    "    for t in reversed(range(len(trajectory))):\n",
    "        state, action, reward, next_state = trajectory[t]\n",
    "        G = gamma * G + reward\n",
    "        if (state, action) not in visited_state_action:\n",
    "            action_returns[(state, action)].append(G)\n",
    "            visited_state_action.add((state, action))"
   ]
  },
  {
   "cell_type": "code",
   "execution_count": 9,
   "metadata": {},
   "outputs": [],
   "source": [
    "# Compute mean returns for each state-action pair\n",
    "for state_action, returns in action_returns.items():\n",
    "    action_value_function[state_action] = np.mean(returns)"
   ]
  },
  {
   "cell_type": "code",
   "execution_count": 10,
   "metadata": {},
   "outputs": [
    {
     "name": "stdout",
     "output_type": "stream",
     "text": [
      "\n",
      "Computed Action-Value Function (sample):\n",
      "State (21, 98), Action 1: -0.448\n",
      "State (21, 97), Action 0: -0.466\n",
      "State (22, 97), Action 1: -1.079\n",
      "State (21, 96), Action 4: -1.078\n",
      "State (21, 95), Action 2: -1.818\n",
      "State (22, 94), Action 2: -2.153\n",
      "State (23, 93), Action 2: -2.276\n",
      "State (22, 93), Action 3: -2.977\n",
      "State (21, 92), Action 4: -2.785\n",
      "State (20, 92), Action 3: -2.839\n"
     ]
    }
   ],
   "source": [
    "# Print some computed action values\n",
    "print(\"\\nComputed Action-Value Function (sample):\")\n",
    "for i, ((state, action), value) in enumerate(action_value_function.items()):\n",
    "    if i >= 10:\n",
    "        break\n",
    "    print(f\"State {state}, Action {action}: {value:.3f}\")"
   ]
  },
  {
   "cell_type": "markdown",
   "metadata": {},
   "source": [
    "### Plot State-Value Function"
   ]
  },
  {
   "cell_type": "code",
   "execution_count": 18,
   "metadata": {},
   "outputs": [
    {
     "data": {
      "image/png": "[encoded data removed]",
      "text/plain": [
       "<Figure size 1200x600 with 2 Axes>"
      ]
     },
     "metadata": {},
     "output_type": "display_data"
    }
   ],
   "source": [
    "# Plot State-Value Function with grid size (31x100)\n",
    "state_values = np.zeros((31, 100)) \n",
    "for (x, y), value in state_value_function.items():\n",
    "    state_values[x, y] =value\n",
    "\n",
    "plt.figure(figsize=(12, 6))\n",
    "plt.imshow(state_values, cmap='coolwarm', origin='upper')\n",
    "plt.colorbar(label=\"Value\")\n",
    "plt.title(\"State-Value Function v_pi(s)\")\n",
    "plt.xlabel(\"Grid X (Columns)\")\n",
    "plt.ylabel(\"Grid Y (Rows)\")\n",
    "plt.show()"
   ]
  },
  {
   "cell_type": "markdown",
   "metadata": {},
   "source": [
    "## task 4-5"
   ]
  },
  {
   "cell_type": "code",
   "execution_count": 12,
   "metadata": {},
   "outputs": [],
   "source": [
    "prev_policy = policy.copy()\n",
    "policy_stable = True\n",
    "\n",
    "for state in state_value_function.keys():\n",
    "    best_action = None\n",
    "    best_value = float('-inf')\n",
    "    for action in range(5):  # Assuming 5 possible actions\n",
    "        if (state, action) in action_value_function:\n",
    "            if action_value_function[(state, action)] > best_value:\n",
    "                best_value = action_value_function[(state, action)]\n",
    "                best_action = action\n",
    "    if best_action is not None:\n",
    "        policy[state] = best_action\n",
    "        if policy[state] != prev_policy[state]:\n",
    "            policy_stable = False"
   ]
  },
  {
   "cell_type": "code",
   "execution_count": 19,
   "metadata": {},
   "outputs": [],
   "source": [
    "# Print improved policy\n",
    "#print(\"\\nImproved Policy:\")\n",
    "#for state, action in policy.items():\n",
    "    #print(f\"State {state}: Best Action {action}\")"
   ]
  },
  {
   "cell_type": "code",
   "execution_count": 14,
   "metadata": {},
   "outputs": [
    {
     "name": "stdout",
     "output_type": "stream",
     "text": [
      "\n",
      "The policy is still changing; further iterations or additional learning methods may be needed.\n"
     ]
    }
   ],
   "source": [
    "if policy_stable:\n",
    "    print(\"\\nThe policy has converged and is likely optimal.\")\n",
    "else:\n",
    "    print(\"\\nThe policy is still changing; further iterations or additional learning methods may be needed.\")"
   ]
  },
  {
   "cell_type": "code",
   "execution_count": 15,
   "metadata": {},
   "outputs": [
    {
     "name": "stdout",
     "output_type": "stream",
     "text": [
      "\n",
      "Average Return from Policy Execution (All Trajectories): -5.750\n"
     ]
    }
   ],
   "source": [
    "total_return = 0\n",
    "num_episodes = len(trajectories)  # Evaluate on all trajectories\n",
    "for trajectory in trajectories:\n",
    "    G = 0\n",
    "    for t in reversed(range(len(trajectory))):\n",
    "        _, _, reward, _ = trajectory[t]\n",
    "        G = gamma * G + reward\n",
    "    total_return += G\n",
    "\n",
    "avg_return = total_return / num_episodes\n",
    "print(f\"\\nAverage Return from Policy Execution (All Trajectories): {avg_return:.3f}\")"
   ]
  },
  {
   "cell_type": "markdown",
   "metadata": {},
   "source": [
    "Is the new policy optimal?\n",
    "* Average Return from Policy Execution is -5.750, which suggests that the policy is not fully optimal yet.\n",
    "* The policy is still accumulating penalties or suboptimal rewards."
   ]
  }
 ],
 "metadata": {
  "kernelspec": {
   "display_name": "Python 3 (ipykernel)",
   "language": "python",
   "name": "python3"
  },
  "language_info": {
   "codemirror_mode": {
    "name": "ipython",
    "version": 3
   },
   "file_extension": ".py",
   "mimetype": "text/x-python",
   "name": "python",
   "nbconvert_exporter": "python",
   "pygments_lexer": "ipython3",
   "version": "3.10.13"
  }
 },
 "nbformat": 4,
 "nbformat_minor": 4
}
