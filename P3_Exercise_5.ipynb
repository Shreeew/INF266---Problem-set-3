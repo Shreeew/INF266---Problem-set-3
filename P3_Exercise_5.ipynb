{
 "cells": [
  {
   "cell_type": "markdown",
   "metadata": {},
   "source": [
    "# Problem set 3\n",
    "## Exercise 5\n",
    "\n",
    "---\n",
    "\n",
    "&nbsp;\n",
    "\n",
    "### Imports:"
   ]
  },
  {
   "cell_type": "code",
   "execution_count": 6,
   "metadata": {},
   "outputs": [],
   "source": [
    "import pickle\n",
    "import numpy as np\n",
    "from mountain.envs.mountain import MountainEnv"
   ]
  },
  {
   "cell_type": "markdown",
   "metadata": {},
   "source": [
    "&nbsp;\n",
    "\n",
    "### Task 1:\n",
    "\n",
    "> Load the trajectories and perform MC evaluation for $v_{\\pi}(s)$."
   ]
  },
  {
   "cell_type": "code",
   "execution_count": 20,
   "metadata": {},
   "outputs": [],
   "source": [
    "trajectories = pickle.load(open('trajectories.pickle', 'rb'))\n",
    "\n",
    "def monte_carlo_eval_first_visit(trajectories, discount=0.9):\n",
    "    '''\n",
    "    Monte Carlo evaluation of the state value function,\n",
    "    with first visit strategy for loops.\n",
    "\n",
    "    Params:\n",
    "    - trajectories: list of lists of tuples of traj.\n",
    "    - discount: discount factor\n",
    "\n",
    "    Returns:\n",
    "    - state_values: 2D numpy array of state-values\n",
    "    '''\n",
    "\n",
    "    #TODO: Implement evaluation of state-values\n",
    "\n",
    "    state_values = np.zeros((31, 100))\n",
    "\n",
    "    return state_values\n",
    "\n",
    "\n",
    "\n",
    "\n",
    "# DEBUG: Print the first trajectory\n",
    "\n",
    "#for trajectory in trajectories:\n",
    "#    for i in trajectory:\n",
    "#        print(f\"State: {i[0]}\")\n",
    "#        print(f\"Action: {i[1]}\")\n",
    "#        print(f\"Reward: {i[2]}\")\n",
    "#        print(f\"Next State: {i[3]}\")\n",
    "#        print(f\"\\n\\n\\n\")\n",
    "#    break \n"
   ]
  }
 ],
 "metadata": {
  "kernelspec": {
   "display_name": "gymenv",
   "language": "python",
   "name": "python3"
  },
  "language_info": {
   "codemirror_mode": {
    "name": "ipython",
    "version": 3
   },
   "file_extension": ".py",
   "mimetype": "text/x-python",
   "name": "python",
   "nbconvert_exporter": "python",
   "pygments_lexer": "ipython3",
   "version": "3.12.8"
  }
 },
 "nbformat": 4,
 "nbformat_minor": 2
}
