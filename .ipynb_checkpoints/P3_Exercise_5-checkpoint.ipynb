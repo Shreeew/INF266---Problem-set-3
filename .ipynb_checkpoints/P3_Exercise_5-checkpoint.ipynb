{
 "cells": [
  {
   "cell_type": "markdown",
   "metadata": {},
   "source": [
    "# Problem set 3\n",
    "## Exercise 5\n",
    "\n",
    "---\n",
    "\n",
    "&nbsp;\n",
    "\n",
    "### Imports:"
   ]
  },
  {
   "cell_type": "markdown",
   "metadata": {},
   "source": [
    "&nbsp;\n",
    "\n",
    "### Task 1:\n",
    "\n",
    "> Load the trajectories and perform MC evaluation for $v_{\\pi}(s)$."
   ]
  },
  {
   "cell_type": "code",
   "execution_count": 20,
   "metadata": {},
   "outputs": [
    {
     "ename": "ImportError",
     "evalue": "cannot import name 'MountainEnvLite' from 'mountain.envs' (/Users/halfdanhesthammer/Desktop/Skole/inf266/INF266---Problem-set-3/mountain/envs/__init__.py)",
     "output_type": "error",
     "traceback": [
      "\u001b[0;31m---------------------------------------------------------------------------\u001b[0m",
      "\u001b[0;31mImportError\u001b[0m                               Traceback (most recent call last)",
      "Cell \u001b[0;32mIn[20], line 2\u001b[0m\n\u001b[1;32m      1\u001b[0m \u001b[38;5;28;01mimport\u001b[39;00m \u001b[38;5;21;01mnumpy\u001b[39;00m \u001b[38;5;28;01mas\u001b[39;00m \u001b[38;5;21;01mnp\u001b[39;00m\n\u001b[0;32m----> 2\u001b[0m \u001b[38;5;28;01mfrom\u001b[39;00m \u001b[38;5;21;01mmountain\u001b[39;00m\u001b[38;5;21;01m.\u001b[39;00m\u001b[38;5;21;01menvs\u001b[39;00m \u001b[38;5;28;01mimport\u001b[39;00m MountainEnvLite\n\u001b[1;32m      4\u001b[0m \u001b[38;5;66;03m# Initialize Mountain environment (v1 / Mountain Lite)\u001b[39;00m\n\u001b[1;32m      5\u001b[0m env \u001b[38;5;241m=\u001b[39m MountainEnvLite(height\u001b[38;5;241m=\u001b[39m\u001b[38;5;241m31\u001b[39m, width\u001b[38;5;241m=\u001b[39m\u001b[38;5;241m101\u001b[39m, max_time\u001b[38;5;241m=\u001b[39m\u001b[38;5;241m80\u001b[39m, start\u001b[38;5;241m=\u001b[39m(\u001b[38;5;241m15\u001b[39m, \u001b[38;5;241m0\u001b[39m))\n",
      "\u001b[0;31mImportError\u001b[0m: cannot import name 'MountainEnvLite' from 'mountain.envs' (/Users/halfdanhesthammer/Desktop/Skole/inf266/INF266---Problem-set-3/mountain/envs/__init__.py)"
     ]
    }
   ],
   "source": [
    "import numpy as np\n",
    "from mountain.envs import MountainEnv\n",
    "\n",
    "# Initialize Mountain environment (v1 / Mountain Lite)\n",
    "env = MountainEnv()\n",
    "state = env.reset()  # starting at row 15, col 0 (near top-left)\n",
    "print(\"Start state:\", state, \"Target column:\", env.target_col)\n",
    "print(\"Sample roughness at start:\", env.map[state])"
   ]
  },
  {
   "cell_type": "code",
   "execution_count": null,
   "metadata": {},
   "outputs": [],
   "source": []
  }
 ],
 "metadata": {
  "kernelspec": {
   "display_name": "Python 3 (ipykernel)",
   "language": "python",
   "name": "python3"
  },
  "language_info": {
   "codemirror_mode": {
    "name": "ipython",
    "version": 3
   },
   "file_extension": ".py",
   "mimetype": "text/x-python",
   "name": "python",
   "nbconvert_exporter": "python",
   "pygments_lexer": "ipython3",
   "version": "3.10.13"
  }
 },
 "nbformat": 4,
 "nbformat_minor": 4
}
